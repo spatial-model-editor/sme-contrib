{
 "cells": [
  {
   "cell_type": "markdown",
   "metadata": {},
   "source": [
    "# sme_contrib.plot examples"
   ]
  },
  {
   "cell_type": "code",
   "execution_count": null,
   "metadata": {
    "id": "zISJVa_IlpA7"
   },
   "outputs": [],
   "source": [
    "import sme\n",
    "import sme_contrib.plot as smeplot\n",
    "from matplotlib import pyplot as plt"
   ]
  },
  {
   "cell_type": "markdown",
   "metadata": {},
   "source": [
    "## Load and simulate example model"
   ]
  },
  {
   "cell_type": "code",
   "execution_count": null,
   "metadata": {},
   "outputs": [],
   "source": [
    "model = sme.open_example_model()\n",
    "fig = plt.figure(figsize=(16,8))\n",
    "plt.imshow(model.compartment_image)\n",
    "plt.title(\"Compartment geometry image\")\n",
    "plt.show()\n",
    "results = model.simulate(100, 100)\n",
    "species = ['B_out', 'B_cell']"
   ]
  },
  {
   "cell_type": "markdown",
   "metadata": {},
   "source": [
    "## Plot resulting species concentration"
   ]
  },
  {
   "cell_type": "markdown",
   "metadata": {},
   "source": [
    "### Use default colormap"
   ]
  },
  {
   "cell_type": "code",
   "execution_count": null,
   "metadata": {},
   "outputs": [],
   "source": [
    "fig = plt.figure(figsize=(16,8))\n",
    "smeplot.concentration_heatmap(results[-1], species)\n",
    "plt.show()"
   ]
  },
  {
   "cell_type": "markdown",
   "metadata": {},
   "source": [
    "### Use a built-in matplotlib colormap"
   ]
  },
  {
   "cell_type": "code",
   "execution_count": null,
   "metadata": {},
   "outputs": [],
   "source": [
    "fig = plt.figure(figsize=(16,8))\n",
    "smeplot.concentration_heatmap(results[-1], species, cmap='flag')\n",
    "plt.show()"
   ]
  },
  {
   "cell_type": "markdown",
   "metadata": {},
   "source": [
    "### Create your own colormap"
   ]
  },
  {
   "cell_type": "code",
   "execution_count": null,
   "metadata": {},
   "outputs": [],
   "source": [
    "# make a black -> green colormap using sme_contrib.plot.colormap:\n",
    "cmap = smeplot.colormap(\"#00ff00\")\n",
    "fig = plt.figure(figsize=(16,8))\n",
    "smeplot.concentration_heatmap(results[-1], species, cmap=cmap)\n",
    "plt.show()"
   ]
  },
  {
   "cell_type": "markdown",
   "metadata": {},
   "source": [
    "### Display on existing axes with colorbar"
   ]
  },
  {
   "cell_type": "code",
   "execution_count": null,
   "metadata": {},
   "outputs": [],
   "source": [
    "fig, (ax_l, ax_r) = plt.subplots(nrows=1, ncols=2, figsize=(16,6))\n",
    "ax_l, im_l = smeplot.concentration_heatmap(results[-1], ['B_cell'], cmap=smeplot.colormap(\"#00ff00\"), ax=ax_l)\n",
    "ax_r, im_r = smeplot.concentration_heatmap(results[-1], ['B_out'], cmap=smeplot.colormap(\"#ff00ff\"), ax=ax_r)\n",
    "fig.colorbar(im_l, ax=ax_l)\n",
    "fig.colorbar(im_r, ax=ax_r)\n",
    "plt.show()"
   ]
  }
 ],
 "metadata": {
  "colab": {
   "collapsed_sections": [],
   "name": "sme_image_comparison.ipynb",
   "provenance": []
  },
  "kernelspec": {
   "display_name": "Python 3",
   "language": "python",
   "name": "python3"
  },
  "language_info": {
   "codemirror_mode": {
    "name": "ipython",
    "version": 3
   },
   "file_extension": ".py",
   "mimetype": "text/x-python",
   "name": "python",
   "nbconvert_exporter": "python",
   "pygments_lexer": "ipython3",
   "version": "3.8.6"
  }
 },
 "nbformat": 4,
 "nbformat_minor": 1
}
